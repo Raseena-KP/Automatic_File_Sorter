{
 "cells": [
  {
   "cell_type": "code",
   "execution_count": 2,
   "id": "f8f72815",
   "metadata": {},
   "outputs": [],
   "source": [
    "#Automatic File Sorter"
   ]
  },
  {
   "cell_type": "code",
   "execution_count": 4,
   "id": "e86467a1",
   "metadata": {},
   "outputs": [],
   "source": [
    "# os means operating system\n",
    "# shutill is library helps us to do complex/ high level operation on File Explorer\n",
    "\n",
    "import os, shutil"
   ]
  },
  {
   "cell_type": "code",
   "execution_count": 18,
   "id": "c2e323f4",
   "metadata": {},
   "outputs": [],
   "source": [
    "# important thing is if we need to work on directories we need mention the path\n",
    "# r added to treet it as row string\n",
    "\n",
    "path=r\"copy& paste_the_path_from_fileExplorer\""
   ]
  },
  {
   "cell_type": "code",
   "execution_count": 20,
   "id": "77603797",
   "metadata": {},
   "outputs": [
    {
     "data": {
      "text/plain": [
       "['Detailed_VBA_Course_Outline.xlsx',\n",
       " 'Inquiry and Payment of Traffic Fines.pdf',\n",
       " 'Excel_VBA_Course_Slides.pdf',\n",
       " 'BMI_Calculator.ipynb',\n",
       " 'Python_Basics.ipynb']"
      ]
     },
     "execution_count": 20,
     "metadata": {},
     "output_type": "execute_result"
    }
   ],
   "source": [
    "# shows all the files in that path\n",
    "file_names=os.listdir(path)\n",
    "file_names"
   ]
  },
  {
   "cell_type": "code",
   "execution_count": 32,
   "id": "f4362086",
   "metadata": {},
   "outputs": [],
   "source": [
    "# create different folder in the destination forlder for sorting purpose\n",
    "# check the folder is exist or no\n",
    "# does the file exist in the folder\n",
    "folder_names=['csv files','Excel Files','doc files']\n",
    "\n",
    "for name in folder_names:\n",
    "    if not os.path.exists(path+name):\n",
    "        os.makedirs(path+name)\n",
    "\n",
    "for file in file_names:\n",
    "    if '.ipynb' in file and not os.path.exists(path+'csv files/'+file):\n",
    "        shutil.move(path+file, path+'csv files/'+file)\n",
    "    elif '.pdf' in file and not os.path.exists(path+'doc files/'+file):\n",
    "        shutil.move(path+file, path+'doc files/'+file)\n",
    "    elif '.xlsx' in file and not os.path.exists(path+'Excel Files/'+file):\n",
    "        shutil.move(path+file, path+'Excel Files/'+file) "
   ]
  }
 ],
 "metadata": {
  "kernelspec": {
   "display_name": "Python 3 (ipykernel)",
   "language": "python",
   "name": "python3"
  },
  "language_info": {
   "codemirror_mode": {
    "name": "ipython",
    "version": 3
   },
   "file_extension": ".py",
   "mimetype": "text/x-python",
   "name": "python",
   "nbconvert_exporter": "python",
   "pygments_lexer": "ipython3",
   "version": "3.9.13"
  }
 },
 "nbformat": 4,
 "nbformat_minor": 5
}
